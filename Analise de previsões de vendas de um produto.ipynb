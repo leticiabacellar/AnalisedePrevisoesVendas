{
 "cells": [
  {
   "cell_type": "code",
   "execution_count": 1,
   "id": "92d2fe8f",
   "metadata": {},
   "outputs": [
    {
     "name": "stdout",
     "output_type": "stream",
     "text": [
      "   Preco  Categoria  Promocao  Venda\n",
      "0    100          1         1      1\n",
      "1     50          2         0      0\n",
      "2     30          3         1      1\n",
      "3    200          1         1      1\n",
      "4    150          2         0      0\n",
      "5     80          3         1      1\n",
      "6     60          1         0      0\n",
      "7     40          2         0      0\n",
      "8    250          1         1      1\n",
      "9    300          2         0      0\n",
      "Acurácia do modelo: 100.00%\n",
      "O novo produto será vendido.\n"
     ]
    },
    {
     "name": "stderr",
     "output_type": "stream",
     "text": [
      "C:\\Users\\letic\\anaconda3\\lib\\site-packages\\sklearn\\base.py:450: UserWarning: X does not have valid feature names, but LogisticRegression was fitted with feature names\n",
      "  warnings.warn(\n"
     ]
    }
   ],
   "source": [
    "# Importação das bibliotecas necessárias\n",
    "import pandas as pd\n",
    "from sklearn.model_selection import train_test_split\n",
    "from sklearn.linear_model import LogisticRegression\n",
    "from sklearn.metrics import accuracy_score\n",
    "\n",
    "# Criação de um conjunto de dados simples de exemplo (dados fictícios)\n",
    "# Características: Preço, Categoria (1=Eletrônico, 2=Roupas, 3=Alimentos), Promoção (1=Sim, 0=Não)\n",
    "# Alvo (Venda): 1 = Produto vendido, 0 = Produto não vendido\n",
    "data = {\n",
    "    'Preco': [100, 50, 30, 200, 150, 80, 60, 40, 250, 300],\n",
    "    'Categoria': [1, 2, 3, 1, 2, 3, 1, 2, 1, 2],\n",
    "    'Promocao': [1, 0, 1, 1, 0, 1, 0, 0, 1, 0],\n",
    "    'Venda': [1, 0, 1, 1, 0, 1, 0, 0, 1, 0]\n",
    "}\n",
    "\n",
    "# Converte os dados em um DataFrame pandas para manipulação\n",
    "df = pd.DataFrame(data)\n",
    "\n",
    "# Exibe os primeiros dados para conferência\n",
    "print(df)\n",
    "\n",
    "# Separação das variáveis de entrada (X) e saída (y)\n",
    "X = df[['Preco', 'Categoria', 'Promocao']]  # Características do produto\n",
    "y = df['Venda']  # Variável alvo (venda: sim ou não)\n",
    "\n",
    "# Divisão dos dados em treino (80%) e teste (20%)\n",
    "X_train, X_test, y_train, y_test = train_test_split(X, y, test_size=0.2, random_state=42)\n",
    "\n",
    "# Criação do modelo de regressão logística\n",
    "model = LogisticRegression()\n",
    "\n",
    "# Treinamento do modelo com os dados de treino\n",
    "model.fit(X_train, y_train)\n",
    "\n",
    "# Fazendo previsões nos dados de teste\n",
    "y_pred = model.predict(X_test)\n",
    "\n",
    "# Avaliação do modelo com base na acurácia\n",
    "accuracy = accuracy_score(y_test, y_pred)\n",
    "\n",
    "# Exibindo a acurácia do modelo\n",
    "print(f'Acurácia do modelo: {accuracy * 100:.2f}%')\n",
    "\n",
    "# Exemplo de como prever a venda de um novo produto\n",
    "novo_produto = [[120, 1, 1]]  # Exemplo: Preço=120, Categoria=1 (Eletrônico), Promoção=Sim\n",
    "previsao = model.predict(novo_produto)\n",
    "\n",
    "# Exibe a previsão para o novo produto\n",
    "if previsao == 1:\n",
    "    print(\"O novo produto será vendido.\")\n",
    "else:\n",
    "    print(\"O novo produto não será vendido.\")\n"
   ]
  },
  {
   "cell_type": "code",
   "execution_count": null,
   "id": "c4b8f7d2",
   "metadata": {},
   "outputs": [],
   "source": []
  }
 ],
 "metadata": {
  "kernelspec": {
   "display_name": "Python 3 (ipykernel)",
   "language": "python",
   "name": "python3"
  },
  "language_info": {
   "codemirror_mode": {
    "name": "ipython",
    "version": 3
   },
   "file_extension": ".py",
   "mimetype": "text/x-python",
   "name": "python",
   "nbconvert_exporter": "python",
   "pygments_lexer": "ipython3",
   "version": "3.9.12"
  }
 },
 "nbformat": 4,
 "nbformat_minor": 5
}
